{
 "cells": [
  {
   "cell_type": "markdown",
   "metadata": {},
   "source": [
    "# Stats notebook\n",
    "\n",
    "This notebook can be used to explore the VDQG data set such as the amount of good question, the most asked question etc."
   ]
  },
  {
   "cell_type": "code",
   "execution_count": 1,
   "metadata": {},
   "outputs": [],
   "source": [
    "from src.preprocess import add_genome_images_to_annotations"
   ]
  },
  {
   "cell_type": "markdown",
   "metadata": {},
   "source": [
    "## Occurences of color in positive questions"
   ]
  },
  {
   "cell_type": "code",
   "execution_count": 2,
   "metadata": {},
   "outputs": [
    {
     "data": {
      "text/plain": [
       "'Total good question where color appears: 10887'"
      ]
     },
     "metadata": {},
     "output_type": "display_data"
    },
    {
     "data": {
      "text/plain": [
       "'Total good question occurences:  51239'"
      ]
     },
     "metadata": {},
     "output_type": "display_data"
    }
   ],
   "source": [
    "from src.preprocess import add_genome_images_to_annotations\n",
    "\n",
    "org_annotations = add_genome_images_to_annotations().values()\n",
    "\n",
    "# Count occureces of question including color rated good\n",
    "occurences_w_color = 0\n",
    "total_good_questions = 0\n",
    "for annotation in org_annotations:\n",
    "    questions = annotation['org_questions']\n",
    "\n",
    "    for question, score in questions:\n",
    "        if score > 0 and 'color' in question.lower():\n",
    "            occurences_w_color += 1\n",
    "        if score > 0:\n",
    "            total_good_questions += 1\n",
    "\n",
    "display(f\"Total good question where color appears: {occurences_w_color}\")\n",
    "display(f\"Total good question occurences:  {total_good_questions}\")"
   ]
  },
  {
   "cell_type": "markdown",
   "metadata": {},
   "source": [
    "## Top 20 most used positive questions"
   ]
  },
  {
   "cell_type": "code",
   "execution_count": 3,
   "metadata": {},
   "outputs": [
    {
     "data": {
      "text/plain": [
       "'how many people are there (2771)'"
      ]
     },
     "metadata": {},
     "output_type": "display_data"
    },
    {
     "data": {
      "text/plain": [
       "'what is the man doing (1233)'"
      ]
     },
     "metadata": {},
     "output_type": "display_data"
    },
    {
     "data": {
      "text/plain": [
       "'what is the ground covered with (1119)'"
      ]
     },
     "metadata": {},
     "output_type": "display_data"
    },
    {
     "data": {
      "text/plain": [
       "'what is in the background (1101)'"
      ]
     },
     "metadata": {},
     "output_type": "display_data"
    },
    {
     "data": {
      "text/plain": [
       "'where is the man (834)'"
      ]
     },
     "metadata": {},
     "output_type": "display_data"
    },
    {
     "data": {
      "text/plain": [
       "'what is the man holding (820)'"
      ]
     },
     "metadata": {},
     "output_type": "display_data"
    },
    {
     "data": {
      "text/plain": [
       "\"what color is the man's shirt (721)\""
      ]
     },
     "metadata": {},
     "output_type": "display_data"
    },
    {
     "data": {
      "text/plain": [
       "'where is the photo taken (700)'"
      ]
     },
     "metadata": {},
     "output_type": "display_data"
    },
    {
     "data": {
      "text/plain": [
       "'what color is the table (683)'"
      ]
     },
     "metadata": {},
     "output_type": "display_data"
    },
    {
     "data": {
      "text/plain": [
       "'what color is the ground (656)'"
      ]
     },
     "metadata": {},
     "output_type": "display_data"
    },
    {
     "data": {
      "text/plain": [
       "'how many people are there in the picture (594)'"
      ]
     },
     "metadata": {},
     "output_type": "display_data"
    },
    {
     "data": {
      "text/plain": [
       "'what is the man wearing (568)'"
      ]
     },
     "metadata": {},
     "output_type": "display_data"
    },
    {
     "data": {
      "text/plain": [
       "'where is the picture taken (526)'"
      ]
     },
     "metadata": {},
     "output_type": "display_data"
    },
    {
     "data": {
      "text/plain": [
       "'where was the photo taken (514)'"
      ]
     },
     "metadata": {},
     "output_type": "display_data"
    },
    {
     "data": {
      "text/plain": [
       "'where is the person (511)'"
      ]
     },
     "metadata": {},
     "output_type": "display_data"
    },
    {
     "data": {
      "text/plain": [
       "'who is in the photo (454)'"
      ]
     },
     "metadata": {},
     "output_type": "display_data"
    },
    {
     "data": {
      "text/plain": [
       "'what is the person doing (441)'"
      ]
     },
     "metadata": {},
     "output_type": "display_data"
    },
    {
     "data": {
      "text/plain": [
       "'what is the woman holding (424)'"
      ]
     },
     "metadata": {},
     "output_type": "display_data"
    },
    {
     "data": {
      "text/plain": [
       "'what is on the ground (416)'"
      ]
     },
     "metadata": {},
     "output_type": "display_data"
    },
    {
     "data": {
      "text/plain": [
       "'what color is the background (411)'"
      ]
     },
     "metadata": {},
     "output_type": "display_data"
    }
   ],
   "source": [
    "TOP = 20\n",
    "question_dict = {}\n",
    "\n",
    "for annotation in org_annotations:\n",
    "    questions = annotation['org_questions']\n",
    "\n",
    "    for question, score in questions:\n",
    "        if score > 0:\n",
    "            question_dict[question.lower()] = question_dict.get(question.lower(), 0) + 1\n",
    "    \n",
    "# sort by question occurences\n",
    "question_dict = dict(sorted(question_dict.items(), key=lambda item: item[1], reverse=True))\n",
    "\n",
    "top_20 = list(question_dict.items())[:TOP]\n",
    "\n",
    "for question, occurences in top_20:\n",
    "    display(f\"{question} ({occurences})\")"
   ]
  }
 ],
 "metadata": {
  "kernelspec": {
   "display_name": "image-captioning",
   "language": "python",
   "name": "python3"
  },
  "language_info": {
   "codemirror_mode": {
    "name": "ipython",
    "version": 3
   },
   "file_extension": ".py",
   "mimetype": "text/x-python",
   "name": "python",
   "nbconvert_exporter": "python",
   "pygments_lexer": "ipython3",
   "version": "3.10.13"
  }
 },
 "nbformat": 4,
 "nbformat_minor": 2
}
